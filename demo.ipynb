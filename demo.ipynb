{
 "cells": [
  {
   "cell_type": "code",
   "execution_count": 1,
   "id": "3f0a3991-6cec-4c65-8228-bff3ced928cb",
   "metadata": {},
   "outputs": [],
   "source": [
    "import recomendations\n",
    "from ipywidgets import interact"
   ]
  },
  {
   "cell_type": "code",
   "execution_count": 2,
   "id": "66e51954-b497-4dc3-8bae-1e4b0538dcd8",
   "metadata": {},
   "outputs": [
    {
     "data": {
      "application/vnd.jupyter.widget-view+json": {
       "model_id": "9ff7824767044fddadbc789d61f2eb8a",
       "version_major": 2,
       "version_minor": 0
      },
      "text/plain": [
       "interactive(children=(Text(value='носки', description='Запрос'), Output()), _dom_classes=('widget-interact',))"
      ]
     },
     "metadata": {},
     "output_type": "display_data"
    }
   ],
   "source": [
    "# запустите ячейку для запуска демонстрации\n",
    "@interact(Запрос='носки')\n",
    "def interaction(Запрос):\n",
    "    recs = recomendations.recommend(Запрос)\n",
    "    if len(recs) == 1:\n",
    "        print(recs[0])\n",
    "    else:\n",
    "        for rec in recs:\n",
    "            print(rec)"
   ]
  },
  {
   "cell_type": "code",
   "execution_count": 5,
   "id": "52c35d4c-986f-4a5c-a12c-ad2fe12705c8",
   "metadata": {},
   "outputs": [
    {
     "name": "stdout",
     "output_type": "stream",
     "text": [
      "407 ms ± 11.4 ms per loop (mean ± std. dev. of 7 runs, 1 loop each)\n"
     ]
    }
   ],
   "source": [
    "%timeit recomendations.recommend('руб')"
   ]
  },
  {
   "cell_type": "code",
   "execution_count": null,
   "id": "8634a5c0-0e75-458a-8a16-122c5ae66add",
   "metadata": {},
   "outputs": [],
   "source": []
  }
 ],
 "metadata": {
  "kernelspec": {
   "display_name": "Python 3",
   "language": "python",
   "name": "python3"
  },
  "language_info": {
   "codemirror_mode": {
    "name": "ipython",
    "version": 3
   },
   "file_extension": ".py",
   "mimetype": "text/x-python",
   "name": "python",
   "nbconvert_exporter": "python",
   "pygments_lexer": "ipython3",
   "version": "3.8.8"
  },
  "widgets": {
   "application/vnd.jupyter.widget-state+json": {
    "state": {},
    "version_major": 2,
    "version_minor": 0
   }
  }
 },
 "nbformat": 4,
 "nbformat_minor": 5
}

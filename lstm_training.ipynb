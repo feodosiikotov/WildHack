{
 "cells": [
  {
   "cell_type": "code",
   "execution_count": 1,
   "metadata": {
    "id": "4jiwXyIKwDec"
   },
   "outputs": [],
   "source": [
    "!cp drive/My\\ Drive/query_popularity.csv.gz query_popularity.csv.gz"
   ]
  },
  {
   "cell_type": "code",
   "execution_count": 2,
   "metadata": {
    "id": "YLiowS5EwOsC"
   },
   "outputs": [],
   "source": [
    "!gzip -d query_popularity.csv.gz"
   ]
  },
  {
   "cell_type": "code",
   "execution_count": 3,
   "metadata": {
    "id": "z2nx6ZRUwQKd"
   },
   "outputs": [],
   "source": [
    "import pandas as pd\n",
    "import numpy as np"
   ]
  },
  {
   "cell_type": "code",
   "execution_count": 4,
   "metadata": {
    "id": "d4kKiS5cwSPN"
   },
   "outputs": [],
   "source": [
    "data = pd.read_csv('query_popularity.csv')"
   ]
  },
  {
   "cell_type": "code",
   "execution_count": 5,
   "metadata": {
    "id": "G60QbKomwUFm"
   },
   "outputs": [],
   "source": [
    "# отбираем только самые частые запросы для избегания опечаток\n",
    "train_data = data[data['query_popularity'] > 6]['query'].dropna()"
   ]
  },
  {
   "cell_type": "code",
   "execution_count": 6,
   "metadata": {
    "id": "GHyDz3URwVbJ"
   },
   "outputs": [],
   "source": [
    "train_data = train_data.apply(lambda x: x.lower()).apply(list)"
   ]
  },
  {
   "cell_type": "code",
   "execution_count": 7,
   "metadata": {
    "id": "Xn0394gOwWsM"
   },
   "outputs": [],
   "source": [
    "# убираем данные со слишком большой и маленькой длиной\n",
    "train_data = train_data[(train_data.apply(len) >= 3) & (train_data.apply(len) < 100)]"
   ]
  },
  {
   "cell_type": "code",
   "execution_count": 8,
   "metadata": {
    "id": "lZGP00RKwYcK"
   },
   "outputs": [],
   "source": [
    "max_seq_len = 100"
   ]
  },
  {
   "cell_type": "code",
   "execution_count": 9,
   "metadata": {
    "id": "GE0qIu0OwZqs"
   },
   "outputs": [],
   "source": [
    "# составляем словари токенов\n",
    "all_tokens = '1234567890абвгдеёжзийклмнопрстуфхцчшщъыьэяюabcdefghijkolmnpqrstuuvwxyz '\n",
    "token_dict = {'<pad>' : 0, '<unk>': 1, '<eos>': 2, '<sos>': 3}\n",
    "idx2token = {0: '<pad>', 1: '<unk>', 2: '<eos>', 3: '<sos>'}\n",
    "for i, token in enumerate(all_tokens):\n",
    "  token_dict[token] = i+4\n",
    "  idx2token[i+4] = token"
   ]
  },
  {
   "cell_type": "code",
   "execution_count": 10,
   "metadata": {
    "id": "68jU_BexwbFU"
   },
   "outputs": [],
   "source": [
    "def process(x):\n",
    "  return np.array([3]+[token_dict[i] if i in token_dict else 0 for i in x] + [2])"
   ]
  },
  {
   "cell_type": "code",
   "execution_count": 11,
   "metadata": {
    "id": "RzSCaIYiwc2t"
   },
   "outputs": [],
   "source": [
    "train_data = train_data.apply(process)"
   ]
  },
  {
   "cell_type": "code",
   "execution_count": 12,
   "metadata": {
    "id": "gmWO1Y0Rwev5"
   },
   "outputs": [],
   "source": [
    "train_data0 = np.zeros((train_data.shape[0], 101), dtype=int)"
   ]
  },
  {
   "cell_type": "code",
   "execution_count": 13,
   "metadata": {
    "id": "s189YZTVwgF8"
   },
   "outputs": [],
   "source": [
    "train_data = np.array(train_data)"
   ]
  },
  {
   "cell_type": "code",
   "execution_count": 14,
   "metadata": {
    "id": "bkzkD_6wwhXm"
   },
   "outputs": [],
   "source": [
    "for i, seq in enumerate(train_data):\n",
    "  train_data0[i][:len(seq)] += train_data[i]\n",
    "train_data = train_data0"
   ]
  },
  {
   "cell_type": "code",
   "execution_count": 15,
   "metadata": {
    "id": "wmIIyeRMwiij"
   },
   "outputs": [],
   "source": [
    "import torch\n",
    "train_data = torch.tensor(train_data)"
   ]
  },
  {
   "cell_type": "code",
   "execution_count": 16,
   "metadata": {
    "id": "KkAfte5bwkFM"
   },
   "outputs": [],
   "source": [
    "dataset = torch.utils.data.TensorDataset(train_data)"
   ]
  },
  {
   "cell_type": "code",
   "execution_count": 17,
   "metadata": {
    "id": "egW9nZ83wn56"
   },
   "outputs": [],
   "source": [
    "from torch.utils.data import DataLoader\n",
    "train_dataloader = DataLoader(dataset, batch_size=64, shuffle=True)"
   ]
  },
  {
   "cell_type": "code",
   "execution_count": 18,
   "metadata": {
    "id": "-NpG2zW2wo_s"
   },
   "outputs": [],
   "source": [
    "from torch import nn\n",
    "class LSTM(nn.Module):\n",
    "    def __init__(self, vocab_size, emb_size, hidden_size):\n",
    "        super().__init__()\n",
    "        self.emb = nn.Embedding(vocab_size, emb_size)\n",
    "        self.lstm = nn.LSTM(emb_size, hidden_size, batch_first=True)\n",
    "        self.pred = nn.Linear(hidden_size, vocab_size)\n",
    "        \n",
    "    def forward(self, input_ids):\n",
    "        embs = self.emb(input_ids)\n",
    "        output, _ = self.lstm(embs)\n",
    "        return self.pred(output)"
   ]
  },
  {
   "cell_type": "code",
   "execution_count": 19,
   "metadata": {
    "id": "auhM5NCPwqVA"
   },
   "outputs": [],
   "source": [
    "import torch\n",
    "device = torch.device('cuda:0' if torch.cuda.is_available else 'cpu')"
   ]
  },
  {
   "cell_type": "code",
   "execution_count": 20,
   "metadata": {
    "id": "nL9husMIwr74"
   },
   "outputs": [],
   "source": [
    "model = LSTM(len(token_dict), 128, 128).to(device)\n",
    "optimizer = torch.optim.Adam(model.parameters(), lr=1e-3)"
   ]
  },
  {
   "cell_type": "code",
   "execution_count": 21,
   "metadata": {
    "id": "QteeunDRwtL9"
   },
   "outputs": [],
   "source": [
    "criterion = nn.CrossEntropyLoss(ignore_index=0)"
   ]
  },
  {
   "cell_type": "code",
   "execution_count": 22,
   "metadata": {
    "colab": {
     "base_uri": "https://localhost:8080/"
    },
    "id": "NoPESULxw5Yv",
    "outputId": "78ea323f-b252-4140-de97-364ff7d68df1"
   },
   "outputs": [
    {
     "name": "stdout",
     "output_type": "stream",
     "text": [
      "Epoch: 0; mean loss: 1.6276372534580557; perplexity: 5.091829791353483\n",
      "Epoch: 1; mean loss: 1.5029859511684556; perplexity: 4.49509117411035\n",
      "Epoch: 2; mean loss: 1.4426678734700489; perplexity: 4.2319711332627135\n",
      "Epoch: 3; mean loss: 1.4074723210624869; perplexity: 4.085615217708377\n",
      "Epoch: 4; mean loss: 1.3819433818978502; perplexity: 3.982633890299581\n",
      "Epoch: 5; mean loss: 1.3658097755206402; perplexity: 3.9188951928535\n",
      "Epoch: 6; mean loss: 1.3507953709975848; perplexity: 3.8604948355456563\n",
      "Epoch: 7; mean loss: 1.3408454711559608; perplexity: 3.8222737618454006\n",
      "Epoch: 8; mean loss: 1.3297981005657762; perplexity: 3.780280074106926\n",
      "Epoch: 9; mean loss: 1.3215261548190969; perplexity: 3.7491387795464814\n",
      "Epoch: 10; mean loss: 1.312867822500916; perplexity: 3.71681761569235\n",
      "Epoch: 11; mean loss: 1.307631321902964; perplexity: 3.697405368505781\n",
      "Epoch: 12; mean loss: 1.302411126489875; perplexity: 3.6781544803759774\n",
      "Epoch: 13; mean loss: 1.2979079632818018; perplexity: 3.6616283882184186\n",
      "Epoch: 14; mean loss: 1.292797657473459; perplexity: 3.642964078182643\n",
      "Epoch: 15; mean loss: 1.2886744761421653; perplexity: 3.627974400520607\n",
      "Epoch: 16; mean loss: 1.2836903202499728; perplexity: 3.609936998487467\n",
      "Epoch: 17; mean loss: 1.2829709911414426; perplexity: 3.6073411994533275\n",
      "Epoch: 18; mean loss: 1.279239366149721; perplexity: 3.5939050398258776\n",
      "Epoch: 19; mean loss: 1.2789463497726636; perplexity: 3.5928521210603743\n",
      "Epoch: 20; mean loss: 1.2736388387108937; perplexity: 3.5738335340107104\n",
      "Epoch: 21; mean loss: 1.2709331833704343; perplexity: 3.5641770416844363\n",
      "Epoch: 22; mean loss: 1.269570144127077; perplexity: 3.55932223790202\n",
      "Epoch: 23; mean loss: 1.2699099832954515; perplexity: 3.560532040568848\n",
      "Epoch: 24; mean loss: 1.2662994059319732; perplexity: 3.5476996443015163\n",
      "Epoch: 25; mean loss: 1.2636306993238373; perplexity: 3.5382444969358406\n",
      "Epoch: 26; mean loss: 1.263246695295033; perplexity: 3.536886057633898\n",
      "Epoch: 27; mean loss: 1.2603551598102873; perplexity: 3.526673797764016\n",
      "Epoch: 28; mean loss: 1.2583432290490588; perplexity: 3.519585507231396\n",
      "Epoch: 29; mean loss: 1.2575780616173726; perplexity: 3.5168934650910586\n",
      "Epoch: 30; mean loss: 1.2554775345574767; perplexity: 3.509513888414469\n",
      "Epoch: 31; mean loss: 1.2544859491940235; perplexity: 3.5060356305896536\n",
      "Epoch: 32; mean loss: 1.2552236933898564; perplexity: 3.508623142370045\n",
      "Epoch: 33; mean loss: 1.2527241089838086; perplexity: 3.4998639943521157\n",
      "Epoch: 34; mean loss: 1.2508490370876888; perplexity: 3.4933076464688453\n"
     ]
    }
   ],
   "source": [
    "epochs = 35\n",
    "for epoch in range(epochs):\n",
    "  model.train()\n",
    "  for [batch] in train_dataloader:\n",
    "    optimizer.zero_grad()\n",
    "    X = batch.to(device)\n",
    "    predictions = model(X[:, :-1])\n",
    "    loss = criterion(\n",
    "    predictions.reshape(-1, predictions.size(-1)),\n",
    "    X[:, 1:].reshape(-1))\n",
    "    loss.backward()\n",
    "    optimizer.step()\n",
    "  model.eval()\n",
    "  mean_loss = 0\n",
    "  num_iter=0\n",
    "  for [batch] in train_dataloader:\n",
    "    X = batch.to(device)\n",
    "    with torch.no_grad():\n",
    "      predictions = model(X[:, :-1])\n",
    "      loss = criterion(\n",
    "          predictions.reshape(-1, predictions.size(-1)),\n",
    "          X[:, 1:].reshape(-1)\n",
    "      )\n",
    "      mean_loss += loss.item()\n",
    "      num_iter += 1\n",
    "  mean_loss /= num_iter\n",
    "  print(f\"Epoch: {epoch}; mean loss: {mean_loss}; perplexity: {np.exp(mean_loss)}\")            "
   ]
  },
  {
   "cell_type": "code",
   "execution_count": 25,
   "metadata": {
    "id": "AFfq2lGiw5_L"
   },
   "outputs": [],
   "source": [
    "# Функция для дополнения слова\n",
    "def predict(x, one_word = True):\n",
    "  x0 = x\n",
    "  x = [3] + [token_dict[i] for i in x]\n",
    "  ans = x + [0]*100\n",
    "  for i in range(len(x), 100):\n",
    "    pred = model(torch.tensor(ans, dtype=int).to(device).unsqueeze(0)).argmax(2).squeeze(0)\n",
    "    ans[i] += int(pred[i-1])\n",
    "  ans = [idx2token[i] for i in ans]\n",
    "  if '<eos>' in ans:\n",
    "    eos = ans.index('<eos>')\n",
    "    ans = ans[:eos]\n",
    "  if one_word:\n",
    "    init_len = len(x0.split())\n",
    "    ans = ''.join(ans)\n",
    "    ans = ans.split()\n",
    "    ans = ans[:init_len]\n",
    "    ans = ' '.join(ans)\n",
    "  else:\n",
    "    ans = ''.join(ans)\n",
    "  return ans"
   ]
  },
  {
   "cell_type": "code",
   "execution_count": 26,
   "metadata": {
    "colab": {
     "base_uri": "https://localhost:8080/",
     "height": 35
    },
    "id": "tKUz_1HF41FV",
    "outputId": "04d34101-70db-46dc-9d6c-1c1074b4161c"
   },
   "outputs": [
    {
     "data": {
      "application/vnd.google.colaboratory.intrinsic+json": {
       "type": "string"
      },
      "text/plain": [
       "'<sos>куртка женская с капюшоном'"
      ]
     },
     "execution_count": 26,
     "metadata": {},
     "output_type": "execute_result"
    }
   ],
   "source": [
    "predict('кур', False)"
   ]
  },
  {
   "cell_type": "code",
   "execution_count": 43,
   "metadata": {
    "id": "SQtomXjW5FPt"
   },
   "outputs": [],
   "source": [
    "# Функция для генерации нескольких возможных слов (в финальном решении не использовалась)\n",
    "def predict(x, one_word = True):\n",
    "  x0 = x\n",
    "  x = [3] + [token_dict[i] for i in x]\n",
    "  ans = np.zeros((10, 100), dtype=int)\n",
    "  ans [:, :len(x)] += x\n",
    "  pred0 = model(torch.tensor(ans[0], dtype=int).to(device).unsqueeze(0)).squeeze(0)[len(x)-1, :]\n",
    "  pred0 = pred0.argsort(descending=True)[:10]\n",
    "  ans[:, len(x)] += pred0.detach().cpu().numpy()\n",
    "  for i in range(len(x)+1, 100):\n",
    "    pred = model(torch.tensor(ans, dtype=int).to(device)).argmax(2)\n",
    "    ans[:, i] += pred[:, i-1].detach().cpu().numpy()\n",
    "  new_ans = np.zeros(ans.shape, dtype=np.object)\n",
    "  for i in range(len(ans)):\n",
    "    for j in range(len(ans[i])):\n",
    "      new_ans[i, j] = idx2token[ans[i, j]]\n",
    "  new_ans = new_ans[:, 1:]\n",
    "  new_ans = new_ans.tolist()\n",
    "  for i in range(len(new_ans)):\n",
    "    if '<eos>' in new_ans[i]:\n",
    "      eos = new_ans[i].index('<eos>')\n",
    "      ans = new_ans[i][:eos]\n",
    "    if one_word:\n",
    "      init_len = len(x0.split())\n",
    "      new_ans[i] = ''.join(new_ans[i])\n",
    "      new_ans[i] = new_ans[i].split()\n",
    "      new_ans[i] = new_ans[i][:init_len]\n",
    "      new_ans[i] = ' '.join(new_ans[i])\n",
    "    else:\n",
    "      new_ans[i] = ''.join(new_ans[i])\n",
    "  return new_ans"
   ]
  },
  {
   "cell_type": "code",
   "execution_count": 45,
   "metadata": {
    "colab": {
     "base_uri": "https://localhost:8080/"
    },
    "id": "pxaBApMl5Iac",
    "outputId": "1429910d-bbf2-45ef-ce51-14986802229f"
   },
   "outputs": [
    {
     "data": {
      "text/plain": [
       "['куртка',\n",
       " 'куральная',\n",
       " 'куро',\n",
       " 'куринатор',\n",
       " 'курка',\n",
       " 'курчка',\n",
       " 'курбория',\n",
       " 'курх',\n",
       " 'курница',\n",
       " 'курм']"
      ]
     },
     "execution_count": 45,
     "metadata": {},
     "output_type": "execute_result"
    }
   ],
   "source": [
    "predict('кур')"
   ]
  },
  {
   "cell_type": "code",
   "execution_count": 46,
   "metadata": {
    "colab": {
     "base_uri": "https://localhost:8080/"
    },
    "id": "5Bj6Mon15lEY",
    "outputId": "dbbc6576-54b5-456e-9e83-b56aeb5c198d"
   },
   "outputs": [
    {
     "data": {
      "text/plain": [
       "['iphone',\n",
       " 'iphane',\n",
       " 'iphin',\n",
       " 'iphen',\n",
       " 'iphland',\n",
       " 'iphda',\n",
       " 'iphune',\n",
       " 'iphynex',\n",
       " 'iph',\n",
       " 'iph400<eos><eos><eos><eos><eos><eos><eos><eos><eos><eos><eos><eos><eos><eos><eos><eos><eos><eos><eos><eos><eos><eos><eos><eos><eos><eos><eos><eos><eos><eos><eos><eos><eos><eos><eos><eos><eos><eos><eos><eos><eos><eos><eos><eos><eos><eos><eos><eos><eos><eos><eos><eos><eos><eos><eos><eos><eos><eos><eos><eos><eos><eos><eos><eos><eos><eos><eos><eos><eos><eos><eos><eos><eos><eos><eos><eos><eos><eos><eos><eos><eos><eos><eos><eos><eos><eos><eos><eos><eos><eos><eos><eos><eos>']"
      ]
     },
     "execution_count": 46,
     "metadata": {},
     "output_type": "execute_result"
    }
   ],
   "source": [
    "predict('iph')"
   ]
  },
  {
   "cell_type": "code",
   "execution_count": 48,
   "metadata": {
    "colab": {
     "base_uri": "https://localhost:8080/"
    },
    "id": "GAhvC6z87HF2",
    "outputId": "7753cfe2-1bcd-41b3-e224-f05686825dcf"
   },
   "outputs": [
    {
     "data": {
      "text/plain": [
       "['носки',\n",
       " 'нож',\n",
       " 'ночная',\n",
       " 'новогодние',\n",
       " 'норки',\n",
       " 'ногтей',\n",
       " 'номера',\n",
       " 'ноутбук',\n",
       " 'нотушка',\n",
       " 'ноевочная']"
      ]
     },
     "execution_count": 48,
     "metadata": {},
     "output_type": "execute_result"
    }
   ],
   "source": [
    "predict('но')"
   ]
  },
  {
   "cell_type": "code",
   "execution_count": 50,
   "metadata": {
    "id": "IOFykn3S7f-6"
   },
   "outputs": [],
   "source": [
    "torch.save(model.state_dict(), 'wildhack_lstm1.pth')"
   ]
  },
  {
   "cell_type": "code",
   "execution_count": null,
   "metadata": {
    "id": "UYo_LpD57gfz"
   },
   "outputs": [],
   "source": []
  }
 ],
 "metadata": {
  "accelerator": "GPU",
  "colab": {
   "collapsed_sections": [],
   "name": "Untitled61.ipynb",
   "provenance": []
  },
  "kernelspec": {
   "display_name": "Python 3",
   "language": "python",
   "name": "python3"
  },
  "language_info": {
   "codemirror_mode": {
    "name": "ipython",
    "version": 3
   },
   "file_extension": ".py",
   "mimetype": "text/x-python",
   "name": "python",
   "nbconvert_exporter": "python",
   "pygments_lexer": "ipython3",
   "version": "3.8.8"
  },
  "widgets": {
   "application/vnd.jupyter.widget-state+json": {
    "state": {},
    "version_major": 2,
    "version_minor": 0
   }
  }
 },
 "nbformat": 4,
 "nbformat_minor": 4
}

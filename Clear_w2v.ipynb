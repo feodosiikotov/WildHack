{
 "cells": [
  {
   "cell_type": "markdown",
   "id": "e1eef8ea-13f2-46b0-8df4-d5e1c92d2f03",
   "metadata": {},
   "source": [
    "import pandas as pd\n",
    "import numpy as np"
   ]
  },
  {
   "cell_type": "code",
   "execution_count": 2,
   "id": "d0c1e6a2-9694-44ac-ab02-7a58c888bcae",
   "metadata": {},
   "outputs": [],
   "source": [
    "# Все операции текста сводятся лишь к lowercase, так как нужны рекомендации, написанные грамотно -> нельзя приводить текст к нормальной форме, удалять цифры и т.д.\n",
    "query_popularity = pd.read_csv('query_popularity.csv')\n",
    "query_popularity['query'] = query_popularity['query'].str.lower()\n",
    "search_hisory = pd.read_csv('search_history.csv')\n",
    "# Переведем весь текст в нижний регистр, чтобы экономить память\n",
    "search_hisory.UQ = search_hisory.UQ.str.lower()"
   ]
  },
  {
   "cell_type": "markdown",
   "id": "b59fba2b-502b-415c-a1fc-2985d192d683",
   "metadata": {},
   "source": [
    "### Выделим выборку для моделирования рекомендаций\n",
    "Необходимо, чтобы было минимум 2 запроса\n",
    "### Уберем ботов\n",
    "Юзер будет являться ботом, если у него будет больше 30 уникальных запросов."
   ]
  },
  {
   "cell_type": "code",
   "execution_count": 3,
   "id": "f8f3773d-16ee-4d6b-8f43-21daab390648",
   "metadata": {},
   "outputs": [],
   "source": [
    "searchers_zaps = search_hisory[['wbuser_id', 'UQ', 'weekday', 'time']].drop_duplicates(['wbuser_id', 'UQ'])"
   ]
  },
  {
   "cell_type": "code",
   "execution_count": 4,
   "id": "056b9392-169b-4de2-9552-36503b5f9fbf",
   "metadata": {},
   "outputs": [],
   "source": [
    "searchers = searchers_zaps.groupby('wbuser_id', as_index=False).agg({'UQ':'count'}).rename(columns={\"UQ\":'how_many_requests'})"
   ]
  },
  {
   "cell_type": "code",
   "execution_count": 5,
   "id": "5cb8a170-85e6-4bbb-8c3b-1c0e8518ce37",
   "metadata": {},
   "outputs": [
    {
     "data": {
      "text/plain": [
       "44324"
      ]
     },
     "execution_count": 5,
     "metadata": {},
     "output_type": "execute_result"
    }
   ],
   "source": [
    "# Кол-во предположительных ботов\n",
    "bots_num = searchers[~(searchers.how_many_requests<=30 )& (searchers.how_many_requests>=2)].shape[0]\n",
    "bots_num"
   ]
  },
  {
   "cell_type": "code",
   "execution_count": 8,
   "id": "94c9edc6-c791-4ec9-b872-99ac7554d433",
   "metadata": {},
   "outputs": [
    {
     "data": {
      "text/plain": [
       "4893526"
      ]
     },
     "execution_count": 8,
     "metadata": {},
     "output_type": "execute_result"
    }
   ],
   "source": [
    "# Кол-во клиентов, на которых можно учить алгоритм делать рекомендации\n",
    "real_num = searchers[(searchers.how_many_requests>=2)].shape[0]\n",
    "real_num"
   ]
  },
  {
   "cell_type": "code",
   "execution_count": 9,
   "id": "f8457241-b120-473f-a102-5351647d7153",
   "metadata": {},
   "outputs": [
    {
     "data": {
      "text/plain": [
       "0.009057681516354466"
      ]
     },
     "execution_count": 9,
     "metadata": {},
     "output_type": "execute_result"
    }
   ],
   "source": [
    "# посомотрим, какой процент ботов мы отсеиваем (1%)\n",
    "bots_num/real_num"
   ]
  },
  {
   "cell_type": "code",
   "execution_count": 10,
   "id": "00fba6e9-7833-4fc3-9774-8228589995c0",
   "metadata": {},
   "outputs": [
    {
     "data": {
      "text/plain": [
       "0.3139739510279077"
      ]
     },
     "execution_count": 10,
     "metadata": {},
     "output_type": "execute_result"
    }
   ],
   "source": [
    "# Их доля запросов приходящщаяся в выборке на ботов (31%). Достаточно большое число, которое нужно отсеивать\n",
    "search_hisory[search_hisory.wbuser_id.isin(searchers[~(searchers.how_many_requests<=30 )& (searchers.how_many_requests>=2)].wbuser_id)].shape[0]/\\\n",
    "search_hisory[search_hisory.wbuser_id.isin(searchers[ (searchers.how_many_requests>=2)].wbuser_id)].shape[0]"
   ]
  },
  {
   "cell_type": "code",
   "execution_count": 11,
   "id": "18b94633-b293-4df3-a1a3-8ffc5235bf13",
   "metadata": {},
   "outputs": [],
   "source": [
    "# оставим только запросы, находящиеся в популярных, для того, чтобы минимизировать шанс предложить текст с опечатками и продвигающими запросами\n",
    "searchers_zaps = searchers_zaps[searchers_zaps.drop_duplicates(['wbuser_id', 'UQ', 'weekday']).UQ.isin(query_popularity['query'])]"
   ]
  },
  {
   "cell_type": "code",
   "execution_count": 12,
   "id": "dd83db10-5066-48bb-80bb-8788a03cffe3",
   "metadata": {},
   "outputs": [],
   "source": [
    "### Клиенты, которые подходят для модели\n",
    "good_id = searchers[(searchers.how_many_requests<=30 )& (searchers.how_many_requests>=2)].wbuser_id"
   ]
  },
  {
   "cell_type": "code",
   "execution_count": 13,
   "id": "1ddad326-749f-44c4-abb2-17126cb60e0b",
   "metadata": {},
   "outputs": [],
   "source": [
    "searchers_zaps = searchers_zaps[searchers_zaps.wbuser_id.isin(good_id)]"
   ]
  },
  {
   "cell_type": "code",
   "execution_count": 14,
   "id": "3290da00-854a-4148-9086-adb765cce12e",
   "metadata": {},
   "outputs": [],
   "source": [
    "# группируем запросы клиентов по дню. Считаем, что серией является поиск за один день. Так как все запросы отсортированы по времени, не страшно, если сессия запросов будет не совсем точно определена\n",
    "grouped_zaps = searchers_zaps.groupby(['wbuser_id', 'weekday'])['UQ'].agg(lambda x: x.tolist())\n",
    "good_series = np.array(grouped_zaps[grouped_zaps.str.len()>=2])"
   ]
  },
  {
   "cell_type": "code",
   "execution_count": 15,
   "id": "56cc9dcd-4cba-49e8-aafb-7f8f8c5c3e55",
   "metadata": {},
   "outputs": [
    {
     "data": {
      "text/plain": [
       "(1298963,)"
      ]
     },
     "execution_count": 15,
     "metadata": {},
     "output_type": "execute_result"
    }
   ],
   "source": [
    "# Кол-во хороших серий\n",
    "good_series.shape"
   ]
  },
  {
   "cell_type": "markdown",
   "id": "56655776-6b33-4fbc-abc8-65f9df5ad339",
   "metadata": {},
   "source": [
    "### Обучим w2v "
   ]
  },
  {
   "cell_type": "code",
   "execution_count": 16,
   "id": "ef0962c9-b0eb-4be7-9954-33581ccda5e2",
   "metadata": {},
   "outputs": [],
   "source": [
    "from gensim.models import Word2Vec"
   ]
  },
  {
   "cell_type": "code",
   "execution_count": 17,
   "id": "fe2cc5ea-97e0-4371-bb8c-c985f7d36022",
   "metadata": {},
   "outputs": [],
   "source": [
    "model = Word2Vec(sentences=good_series, vector_size=100, window=3, min_count=1, workers=4)"
   ]
  },
  {
   "cell_type": "code",
   "execution_count": null,
   "id": "5a569c9c-6afa-4b1b-a0cb-fa3d8a6b145d",
   "metadata": {},
   "outputs": [],
   "source": [
    "model.save(\"word2vec.model\")"
   ]
  }
 ],
 "metadata": {
  "kernelspec": {
   "display_name": "Python 3 (ipykernel)",
   "language": "python",
   "name": "python3"
  },
  "language_info": {
   "codemirror_mode": {
    "name": "ipython",
    "version": 3
   },
   "file_extension": ".py",
   "mimetype": "text/x-python",
   "name": "python",
   "nbconvert_exporter": "python",
   "pygments_lexer": "ipython3",
   "version": "3.9.7"
  }
 },
 "nbformat": 4,
 "nbformat_minor": 5
}
